{
 "cells": [
  {
   "cell_type": "code",
   "execution_count": 1,
   "metadata": {},
   "outputs": [],
   "source": [
    "import numpy as np\n",
    "import pandas as pd\n",
    "\n",
    "from src.M4_experiment import M4_parser\n",
    "from src.utils.data import long_to_wide\n",
    "from src.ESRNN import ESRNN"
   ]
  },
  {
   "cell_type": "code",
   "execution_count": 2,
   "metadata": {},
   "outputs": [],
   "source": [
    "import matplotlib.pyplot as plt\n",
    "plt.style.use('ggplot')\n",
    "\n",
    "\n",
    "def plot_prediction(y, y_hat, forecast=True):\n",
    "    \"\"\"\n",
    "    \"\"\"\n",
    "    n_y = len(y)\n",
    "    n_yhat = len(y_hat)\n",
    "    ds_y = np.array(range(n_y))\n",
    "    ds_yhat = np.array(range(n_y, n_y+n_yhat))\n",
    "\n",
    "    plt.plot(ds_y, y, label = 'y')\n",
    "    plt.plot(ds_yhat, y_hat, label='y_hat')\n",
    "    plt.legend(loc='upper left')\n",
    "    plt.show()"
   ]
  },
  {
   "cell_type": "code",
   "execution_count": 3,
   "metadata": {},
   "outputs": [
    {
     "name": "stdout",
     "output_type": "stream",
     "text": [
      "[['Q1' 'Macro']\n",
      " ['Q10' 'Macro']\n",
      " ['Q100' 'Macro']\n",
      " ['Q11' 'Macro']\n",
      " ['Q12' 'Macro']]\n",
      "[[7407.41231382 7528.5660743  7374.70922497 ...           nan\n",
      "            nan           nan]\n",
      " [2329.         2349.9        2332.9        ...           nan\n",
      "            nan           nan]\n",
      " [5036.         5089.         5226.         ...           nan\n",
      "            nan           nan]\n",
      " [1082.5        1076.1        1063.1        ...           nan\n",
      "            nan           nan]\n",
      " [3726.         4048.         4704.         ...           nan\n",
      "            nan           nan]]\n"
     ]
    }
   ],
   "source": [
    "dataset = M4_parser(dataset_name='Quarterly', mode='train', num_obs=100)\n",
    "X, y = long_to_wide(dataset)\n",
    "print(X[:5])\n",
    "print(y[:5])"
   ]
  },
  {
   "cell_type": "code",
   "execution_count": 4,
   "metadata": {},
   "outputs": [
    {
     "name": "stdout",
     "output_type": "stream",
     "text": [
      "========== Training ESRNN ==========\n",
      "========= Epoch 0 finished =========\n",
      "Training time: 3.179318904876709\n",
      "Forecast loss: 0.0870470330119133\n",
      "========= Epoch 1 finished =========\n",
      "Training time: 3.152277946472168\n",
      "Forecast loss: 0.07972340285778046\n",
      "Train finished!\n"
     ]
    }
   ],
   "source": [
    "esrnn = ESRNN(max_epochs=2, batch_size=2)\n",
    "esrnn.fit(X,y)\n",
    "#pred_ini = esrnn.predict()"
   ]
  },
  {
   "cell_type": "code",
   "execution_count": null,
   "metadata": {},
   "outputs": [],
   "source": [
    "plot_prediction(X[X['unique_id']==unique_id]['y'], pred_ini[pred_ini['unique_id']==unique_id]['y_hat'])"
   ]
  },
  {
   "cell_type": "code",
   "execution_count": null,
   "metadata": {},
   "outputs": [],
   "source": [
    "esrnn = ESRNN(max_epochs=5)\n",
    "esrnn.fit(X,y)\n",
    "preds = esrnn.predict()"
   ]
  },
  {
   "cell_type": "code",
   "execution_count": null,
   "metadata": {},
   "outputs": [],
   "source": [
    "plot_prediction(X[X['unique_id']==unique_id]['y'], preds[preds['unique_id']==unique_id]['y_hat'])"
   ]
  },
  {
   "cell_type": "code",
   "execution_count": null,
   "metadata": {},
   "outputs": [],
   "source": [
    "import pandas as pd\n",
    "import numpy as np\n",
    "\n",
    "import torch\n",
    "from src.ESRNN import ESRNN\n",
    "from src.utils.data import Iterator, long_to_wide\n",
    "from src.M4_experiment import M4_parser\n",
    "\n",
    "data = {'unique_id': [\"q1\", \"q1\", \"q1\", \"q1\", \"q2\", \"q2\", \"q2\", \"q3\", \"q4\", \"q4\", \"q4\"], \n",
    "        'ts': [1, 2, 3, 4, 1, 2, 3, 1, 1, 2, 3],\n",
    "        'x': [\"a\", \"a\", \"a\", \"a\", \"b\", \"b\", \"b\", \"c\", \"d\", \"d\", \"d\"],\n",
    "        'y': [1.1, 1.2, 1.3, 1.4, 2.1, 2.2, 2.3, 3.1, 4.1, 4.2, 4.3]}\n",
    "# dataset = pd.DataFrame.from_dict(data)\n",
    "dataset = M4_parser('Quarterly', mode='train', num_obs=200, data_dir='./data/m4')\n",
    "\n",
    "X, y = long_to_wide(dataset)\n",
    "esrnn = ESRNN()\n",
    "\n",
    "mc = esrnn.mc\n",
    "unique_categories = dataset['x'].unique()\n",
    "mc.category_to_idx = dict((word, index) for index, word in enumerate(unique_categories))\n",
    "mc.exogenous_size = len(unique_categories)\n",
    "mc.batch_size = 2\n",
    "\n",
    "iterator = Iterator(mc=mc, X=X, y=y, shuffle=True)\n",
    "\n",
    "batch = iterator.get_batch()\n",
    "print(\"iterator.sort_key \\n\", iterator.sort_key)\n",
    "print(\"batch.y \\n\", batch.y)\n",
    "print(\"batch.idxs\", batch.idxs)\n",
    "print(\"batch.last_ts\", batch.last_ts)\n",
    "print(\"iterator.X \\n\", iterator.X)"
   ]
  },
  {
   "cell_type": "code",
   "execution_count": null,
   "metadata": {},
   "outputs": [],
   "source": []
  }
 ],
 "metadata": {
  "kernelspec": {
   "display_name": "esrnn_torch",
   "language": "python",
   "name": "esrnn_torch"
  },
  "language_info": {
   "codemirror_mode": {
    "name": "ipython",
    "version": 3
   },
   "file_extension": ".py",
   "mimetype": "text/x-python",
   "name": "python",
   "nbconvert_exporter": "python",
   "pygments_lexer": "ipython3",
   "version": "3.6.10"
  }
 },
 "nbformat": 4,
 "nbformat_minor": 4
}
