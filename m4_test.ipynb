{
 "cells": [
  {
   "cell_type": "code",
   "execution_count": 1,
   "metadata": {},
   "outputs": [],
   "source": [
    "import numpy as np\n",
    "import pandas as pd\n",
    "\n",
    "from src.M4_experiment import M4_parser\n",
    "from src.utils_visualization import plot_prediction\n",
    "from src.ESRNN import ESRNN"
   ]
  },
  {
   "cell_type": "code",
   "execution_count": 2,
   "metadata": {},
   "outputs": [],
   "source": [
    "X_df_train, y_df_train = M4_parser(dataset_name='Quarterly', mode='train', num_obs=100)\n",
    "\n",
    "X_df_test = X_df_train.loc[X_df_train['unique_id'].isin(['Q1'])]\n",
    "X_df_test = X_df_test[['unique_id', 'ds']].groupby('unique_id').last().reset_index()\n",
    "y_test = y_df_train.loc[X_df_train['unique_id'].isin(['Q1'])]"
   ]
  },
  {
   "cell_type": "code",
   "execution_count": 5,
   "metadata": {},
   "outputs": [
    {
     "data": {
      "text/html": [
       "<div>\n",
       "<style scoped>\n",
       "    .dataframe tbody tr th:only-of-type {\n",
       "        vertical-align: middle;\n",
       "    }\n",
       "\n",
       "    .dataframe tbody tr th {\n",
       "        vertical-align: top;\n",
       "    }\n",
       "\n",
       "    .dataframe thead th {\n",
       "        text-align: right;\n",
       "    }\n",
       "</style>\n",
       "<table border=\"1\" class=\"dataframe\">\n",
       "  <thead>\n",
       "    <tr style=\"text-align: right;\">\n",
       "      <th></th>\n",
       "      <th>unique_id</th>\n",
       "      <th>ds</th>\n",
       "      <th>y</th>\n",
       "    </tr>\n",
       "  </thead>\n",
       "  <tbody>\n",
       "    <tr>\n",
       "      <th>0</th>\n",
       "      <td>Q1</td>\n",
       "      <td>1970-01-02</td>\n",
       "      <td>7407.412314</td>\n",
       "    </tr>\n",
       "    <tr>\n",
       "      <th>1</th>\n",
       "      <td>Q1</td>\n",
       "      <td>1970-01-03</td>\n",
       "      <td>7528.566074</td>\n",
       "    </tr>\n",
       "    <tr>\n",
       "      <th>2</th>\n",
       "      <td>Q1</td>\n",
       "      <td>1970-01-04</td>\n",
       "      <td>7374.709225</td>\n",
       "    </tr>\n",
       "    <tr>\n",
       "      <th>3</th>\n",
       "      <td>Q1</td>\n",
       "      <td>1970-01-05</td>\n",
       "      <td>7395.514848</td>\n",
       "    </tr>\n",
       "    <tr>\n",
       "      <th>4</th>\n",
       "      <td>Q1</td>\n",
       "      <td>1970-01-06</td>\n",
       "      <td>7654.007989</td>\n",
       "    </tr>\n",
       "    <tr>\n",
       "      <th>...</th>\n",
       "      <td>...</td>\n",
       "      <td>...</td>\n",
       "      <td>...</td>\n",
       "    </tr>\n",
       "    <tr>\n",
       "      <th>8988</th>\n",
       "      <td>Q100</td>\n",
       "      <td>1970-03-01</td>\n",
       "      <td>7090.000000</td>\n",
       "    </tr>\n",
       "    <tr>\n",
       "      <th>8989</th>\n",
       "      <td>Q100</td>\n",
       "      <td>1970-03-02</td>\n",
       "      <td>7015.000000</td>\n",
       "    </tr>\n",
       "    <tr>\n",
       "      <th>8990</th>\n",
       "      <td>Q100</td>\n",
       "      <td>1970-03-03</td>\n",
       "      <td>6925.000000</td>\n",
       "    </tr>\n",
       "    <tr>\n",
       "      <th>8991</th>\n",
       "      <td>Q100</td>\n",
       "      <td>1970-03-04</td>\n",
       "      <td>6868.000000</td>\n",
       "    </tr>\n",
       "    <tr>\n",
       "      <th>8992</th>\n",
       "      <td>Q100</td>\n",
       "      <td>1970-03-05</td>\n",
       "      <td>6935.000000</td>\n",
       "    </tr>\n",
       "  </tbody>\n",
       "</table>\n",
       "<p>8993 rows × 3 columns</p>\n",
       "</div>"
      ],
      "text/plain": [
       "     unique_id         ds            y\n",
       "0           Q1 1970-01-02  7407.412314\n",
       "1           Q1 1970-01-03  7528.566074\n",
       "2           Q1 1970-01-04  7374.709225\n",
       "3           Q1 1970-01-05  7395.514848\n",
       "4           Q1 1970-01-06  7654.007989\n",
       "...        ...        ...          ...\n",
       "8988      Q100 1970-03-01  7090.000000\n",
       "8989      Q100 1970-03-02  7015.000000\n",
       "8990      Q100 1970-03-03  6925.000000\n",
       "8991      Q100 1970-03-04  6868.000000\n",
       "8992      Q100 1970-03-05  6935.000000\n",
       "\n",
       "[8993 rows x 3 columns]"
      ]
     },
     "execution_count": 5,
     "metadata": {},
     "output_type": "execute_result"
    }
   ],
   "source": [
    "y_df_train"
   ]
  },
  {
   "cell_type": "code",
   "execution_count": 3,
   "metadata": {},
   "outputs": [
    {
     "name": "stdout",
     "output_type": "stream",
     "text": [
      "========== Training ESRNN ==========\n",
      "\n",
      "========= Epoch 0 finished =========\n",
      "Training time: 8.139627695083618\n",
      "Forecast loss: 0.08462110161781311\n",
      "Train finished!\n"
     ]
    }
   ],
   "source": [
    "esrnn = ESRNN(max_epochs=1, batch_size=1)\n",
    "esrnn.fit(X_df_train, y_df_train)\n",
    "y_hat = esrnn.predict(X_df_test)"
   ]
  },
  {
   "cell_type": "code",
   "execution_count": 4,
   "metadata": {},
   "outputs": [
    {
     "data": {
      "image/png": "[encoded data removed]",
      "text/plain": [
       "<Figure size 432x288 with 1 Axes>"
      ]
     },
     "metadata": {},
     "output_type": "display_data"
    }
   ],
   "source": [
    "plot_prediction(y_test['y'], y_hat['y_hat'])"
   ]
  },
  {
   "cell_type": "code",
   "execution_count": 5,
   "metadata": {},
   "outputs": [
    {
     "name": "stdout",
     "output_type": "stream",
     "text": [
      "========== Training ESRNN ==========\n",
      "\n",
      "========= Epoch 0 finished =========\n",
      "Training time: 3.0701990127563477\n",
      "Forecast loss: 0.0870470330119133\n",
      "========= Epoch 1 finished =========\n",
      "Training time: 3.105170965194702\n",
      "Forecast loss: 0.07972340285778046\n",
      "========= Epoch 2 finished =========\n",
      "Training time: 2.9968299865722656\n",
      "Forecast loss: 0.07771167159080505\n",
      "========= Epoch 3 finished =========\n",
      "Training time: 3.14005184173584\n",
      "Forecast loss: 0.07611952722072601\n",
      "========= Epoch 4 finished =========\n",
      "Training time: 3.128491163253784\n",
      "Forecast loss: 0.07474519312381744\n",
      "========= Epoch 5 finished =========\n",
      "Training time: 3.1571950912475586\n",
      "Forecast loss: 0.07356484979391098\n",
      "========= Epoch 6 finished =========\n",
      "Training time: 3.192117929458618\n",
      "Forecast loss: 0.07256069779396057\n",
      "========= Epoch 7 finished =========\n",
      "Training time: 3.2925026416778564\n",
      "Forecast loss: 0.07151568681001663\n",
      "========= Epoch 8 finished =========\n",
      "Training time: 3.165349245071411\n",
      "Forecast loss: 0.0706692487001419\n",
      "========= Epoch 9 finished =========\n",
      "Training time: 3.068556070327759\n",
      "Forecast loss: 0.06970707327127457\n",
      "Train finished!\n"
     ]
    }
   ],
   "source": [
    "esrnn = ESRNN(max_epochs=10, batch_size=2)\n",
    "esrnn.fit(X_df_train, y_df_train)\n",
    "y_hat = esrnn.predict(X_df_test)"
   ]
  },
  {
   "cell_type": "code",
   "execution_count": 6,
   "metadata": {},
   "outputs": [
    {
     "data": {
      "image/png": "[encoded data removed]",
      "text/plain": [
       "<Figure size 432x288 with 1 Axes>"
      ]
     },
     "metadata": {},
     "output_type": "display_data"
    }
   ],
   "source": [
    "plot_prediction(y_test['y'], y_hat['y_hat'])"
   ]
  },
  {
   "cell_type": "code",
   "execution_count": null,
   "metadata": {},
   "outputs": [],
   "source": []
  }
 ],
 "metadata": {
  "kernelspec": {
   "display_name": "esrnn_torch",
   "language": "python",
   "name": "esrnn_torch"
  },
  "language_info": {
   "codemirror_mode": {
    "name": "ipython",
    "version": 3
   },
   "file_extension": ".py",
   "mimetype": "text/x-python",
   "name": "python",
   "nbconvert_exporter": "python",
   "pygments_lexer": "ipython3",
   "version": "3.6.10"
  }
 },
 "nbformat": 4,
 "nbformat_minor": 4
}
