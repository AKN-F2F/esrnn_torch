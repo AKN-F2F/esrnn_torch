{
 "cells": [
  {
   "cell_type": "code",
   "execution_count": 1,
   "metadata": {},
   "outputs": [],
   "source": [
    "import numpy as np\n",
    "import pandas as pd\n",
    "\n",
    "from src.M4_data import prepare_M4_data\n",
    "from src.utils_visualization import plot_prediction\n",
    "from src.ESRNN import ESRNN"
   ]
  },
  {
   "cell_type": "code",
   "execution_count": 2,
   "metadata": {},
   "outputs": [
    {
     "data": {
      "text/html": [
       "<div>\n",
       "<style scoped>\n",
       "    .dataframe tbody tr th:only-of-type {\n",
       "        vertical-align: middle;\n",
       "    }\n",
       "\n",
       "    .dataframe tbody tr th {\n",
       "        vertical-align: top;\n",
       "    }\n",
       "\n",
       "    .dataframe thead th {\n",
       "        text-align: right;\n",
       "    }\n",
       "</style>\n",
       "<table border=\"1\" class=\"dataframe\">\n",
       "  <thead>\n",
       "    <tr style=\"text-align: right;\">\n",
       "      <th></th>\n",
       "      <th>unique_id</th>\n",
       "      <th>ds</th>\n",
       "      <th>y</th>\n",
       "    </tr>\n",
       "  </thead>\n",
       "  <tbody>\n",
       "    <tr>\n",
       "      <th>0</th>\n",
       "      <td>Q1</td>\n",
       "      <td>1970-01-02</td>\n",
       "      <td>7407.412314</td>\n",
       "    </tr>\n",
       "    <tr>\n",
       "      <th>1</th>\n",
       "      <td>Q1</td>\n",
       "      <td>1970-01-03</td>\n",
       "      <td>7528.566074</td>\n",
       "    </tr>\n",
       "    <tr>\n",
       "      <th>2</th>\n",
       "      <td>Q1</td>\n",
       "      <td>1970-01-04</td>\n",
       "      <td>7374.709225</td>\n",
       "    </tr>\n",
       "    <tr>\n",
       "      <th>3</th>\n",
       "      <td>Q1</td>\n",
       "      <td>1970-01-05</td>\n",
       "      <td>7395.514848</td>\n",
       "    </tr>\n",
       "    <tr>\n",
       "      <th>4</th>\n",
       "      <td>Q1</td>\n",
       "      <td>1970-01-06</td>\n",
       "      <td>7654.007989</td>\n",
       "    </tr>\n",
       "    <tr>\n",
       "      <th>...</th>\n",
       "      <td>...</td>\n",
       "      <td>...</td>\n",
       "      <td>...</td>\n",
       "    </tr>\n",
       "    <tr>\n",
       "      <th>72477</th>\n",
       "      <td>Q999</td>\n",
       "      <td>1970-03-05</td>\n",
       "      <td>4769.920000</td>\n",
       "    </tr>\n",
       "    <tr>\n",
       "      <th>72478</th>\n",
       "      <td>Q999</td>\n",
       "      <td>1970-03-06</td>\n",
       "      <td>4851.440000</td>\n",
       "    </tr>\n",
       "    <tr>\n",
       "      <th>72479</th>\n",
       "      <td>Q999</td>\n",
       "      <td>1970-03-07</td>\n",
       "      <td>4978.280000</td>\n",
       "    </tr>\n",
       "    <tr>\n",
       "      <th>72480</th>\n",
       "      <td>Q999</td>\n",
       "      <td>1970-03-08</td>\n",
       "      <td>5039.440000</td>\n",
       "    </tr>\n",
       "    <tr>\n",
       "      <th>72481</th>\n",
       "      <td>Q999</td>\n",
       "      <td>1970-03-09</td>\n",
       "      <td>5170.080000</td>\n",
       "    </tr>\n",
       "  </tbody>\n",
       "</table>\n",
       "<p>72549 rows × 3 columns</p>\n",
       "</div>"
      ],
      "text/plain": [
       "      unique_id         ds            y\n",
       "0            Q1 1970-01-02  7407.412314\n",
       "1            Q1 1970-01-03  7528.566074\n",
       "2            Q1 1970-01-04  7374.709225\n",
       "3            Q1 1970-01-05  7395.514848\n",
       "4            Q1 1970-01-06  7654.007989\n",
       "...         ...        ...          ...\n",
       "72477      Q999 1970-03-05  4769.920000\n",
       "72478      Q999 1970-03-06  4851.440000\n",
       "72479      Q999 1970-03-07  4978.280000\n",
       "72480      Q999 1970-03-08  5039.440000\n",
       "72481      Q999 1970-03-09  5170.080000\n",
       "\n",
       "[72549 rows x 3 columns]"
      ]
     },
     "execution_count": 2,
     "metadata": {},
     "output_type": "execute_result"
    }
   ],
   "source": [
    "X_train_df, y_train_df, X_test_df, y_test_df = prepare_M4_data('Quarterly', num_obs=1000)\n",
    "y_train_df"
   ]
  },
  {
   "cell_type": "code",
   "execution_count": 3,
   "metadata": {},
   "outputs": [
    {
     "name": "stdout",
     "output_type": "stream",
     "text": [
      "========== Training ESRNN ==========\n",
      "\n",
      "========= Epoch 0 finished =========\n",
      "Training time: 22.52895\n",
      "Training loss: 0.3303399980068207\n",
      "Test Pinball loss: 0.01399\n",
      "Train finished! \n",
      "\n"
     ]
    }
   ],
   "source": [
    "esrnn = ESRNN(max_epochs=1, batch_size=2, rnn_weight_decay=0.5)\n",
    "# esrnn = ESRNN(max_epochs=2, batch_size=16, learning_rate=3e-4, per_series_lr_multip=1.5,\n",
    "#               gradient_eps=1e-6, level_variability_penalty=100,\n",
    "#               dilations=[[1,7],[28]], add_nl_layer=True,\n",
    "#               seasonality=7, input_size=7, output_size=14)\n",
    "esrnn.fit(X_train_df, y_train_df)"
   ]
  },
  {
   "cell_type": "code",
   "execution_count": 4,
   "metadata": {},
   "outputs": [
    {
     "name": "stdout",
     "output_type": "stream",
     "text": [
      "========= Predicting ESRNN =========\n",
      "\n"
     ]
    },
    {
     "data": {
      "image/png": "[encoded data removed]",
      "text/plain": [
       "<Figure size 432x288 with 1 Axes>"
      ]
     },
     "metadata": {},
     "output_type": "display_data"
    }
   ],
   "source": [
    "u_id = 'Q1'\n",
    "X_test = X_test_df.loc[X_test_df.unique_id==u_id, :]\n",
    "y_train = y_train_df.loc[y_train_df.unique_id==u_id, :]\n",
    "y_test_aux = y_test_df.loc[y_test_df.unique_id==u_id, :]\n",
    "y_test = pd.concat([y_train, y_test_aux], axis=0, sort=True)\n",
    "y_hat = esrnn.predict(X_test)\n",
    "plot_prediction(y_test, y_hat)"
   ]
  },
  {
   "cell_type": "code",
   "execution_count": 5,
   "metadata": {},
   "outputs": [
    {
     "name": "stdout",
     "output_type": "stream",
     "text": [
      "========= Predicting ESRNN =========\n",
      "\n",
      "====================  mase  ====================\n"
     ]
    },
    {
     "ename": "AttributeError",
     "evalue": "'numpy.float64' object has no attribute 'append'",
     "output_type": "error",
     "traceback": [
      "\u001b[0;31m---------------------------------------------------------------------------\u001b[0m",
      "\u001b[0;31mAttributeError\u001b[0m                            Traceback (most recent call last)",
      "\u001b[0;32m<ipython-input-5-5d100744273a>\u001b[0m in \u001b[0;36m<module>\u001b[0;34m\u001b[0m\n\u001b[1;32m      7\u001b[0m \u001b[0my_insample\u001b[0m \u001b[0;34m=\u001b[0m \u001b[0my_train\u001b[0m\u001b[0;34m.\u001b[0m\u001b[0mfilter\u001b[0m\u001b[0;34m(\u001b[0m\u001b[0;34m[\u001b[0m\u001b[0;34m'unique_id'\u001b[0m\u001b[0;34m,\u001b[0m \u001b[0;34m'ds'\u001b[0m\u001b[0;34m,\u001b[0m \u001b[0;34m'y'\u001b[0m\u001b[0;34m]\u001b[0m\u001b[0;34m)\u001b[0m\u001b[0;34m\u001b[0m\u001b[0;34m\u001b[0m\u001b[0m\n\u001b[1;32m      8\u001b[0m \u001b[0;34m\u001b[0m\u001b[0m\n\u001b[0;32m----> 9\u001b[0;31m \u001b[0mowa\u001b[0m\u001b[0;34m(\u001b[0m\u001b[0my_panel\u001b[0m\u001b[0;34m,\u001b[0m \u001b[0my_hat_panel\u001b[0m\u001b[0;34m,\u001b[0m \u001b[0my_naive2_panel\u001b[0m\u001b[0;34m,\u001b[0m \u001b[0my_insample\u001b[0m\u001b[0;34m,\u001b[0m \u001b[0mseasonality\u001b[0m\u001b[0;34m=\u001b[0m\u001b[0mesrnn\u001b[0m\u001b[0;34m.\u001b[0m\u001b[0mmc\u001b[0m\u001b[0;34m.\u001b[0m\u001b[0mseasonality\u001b[0m\u001b[0;34m)\u001b[0m\u001b[0;34m\u001b[0m\u001b[0;34m\u001b[0m\u001b[0m\n\u001b[0m",
      "\u001b[0;32m~/Desktop/esrnn_torch/src/utils_evaluation.py\u001b[0m in \u001b[0;36mowa\u001b[0;34m(y_panel, y_hat_panel, y_naive2_panel, y_insample, seasonality)\u001b[0m\n\u001b[1;32m    325\u001b[0m   \"\"\"\n\u001b[1;32m    326\u001b[0m   total_mase = evaluate_panel(y_panel, y_hat_panel, mase,\n\u001b[0;32m--> 327\u001b[0;31m                               y_insample, seasonality)\n\u001b[0m\u001b[1;32m    328\u001b[0m   total_mase_naive2 = evaluate_panel(y_panel, y_naive2_panel, mase,\n\u001b[1;32m    329\u001b[0m                                      y_insample, seasonality)\n",
      "\u001b[0;32m~/Desktop/esrnn_torch/src/utils_evaluation.py\u001b[0m in \u001b[0;36mevaluate_panel\u001b[0;34m(y_panel, y_hat_panel, metric, y_insample, seasonality)\u001b[0m\n\u001b[1;32m    303\u001b[0m     \u001b[0;32melse\u001b[0m\u001b[0;34m:\u001b[0m\u001b[0;34m\u001b[0m\u001b[0;34m\u001b[0m\u001b[0m\n\u001b[1;32m    304\u001b[0m       \u001b[0mevaluation_id\u001b[0m \u001b[0;34m=\u001b[0m \u001b[0mmetric\u001b[0m\u001b[0;34m(\u001b[0m\u001b[0my_id\u001b[0m\u001b[0;34m,\u001b[0m \u001b[0my_hat_id\u001b[0m\u001b[0;34m)\u001b[0m\u001b[0;34m\u001b[0m\u001b[0;34m\u001b[0m\u001b[0m\n\u001b[0;32m--> 305\u001b[0;31m     \u001b[0mevaluation\u001b[0m\u001b[0;34m.\u001b[0m\u001b[0mappend\u001b[0m\u001b[0;34m(\u001b[0m\u001b[0mevaluation_id\u001b[0m\u001b[0;34m)\u001b[0m\u001b[0;34m\u001b[0m\u001b[0;34m\u001b[0m\u001b[0m\n\u001b[0m\u001b[1;32m    306\u001b[0m   \u001b[0;32mreturn\u001b[0m \u001b[0mevaluation\u001b[0m\u001b[0;34m\u001b[0m\u001b[0;34m\u001b[0m\u001b[0m\n\u001b[1;32m    307\u001b[0m \u001b[0;34m\u001b[0m\u001b[0m\n",
      "\u001b[0;31mAttributeError\u001b[0m: 'numpy.float64' object has no attribute 'append'"
     ]
    }
   ],
   "source": [
    "from src.utils_evaluation import owa\n",
    "\n",
    "y_panel = y_test_df.filter(['unique_id', 'ds', 'y'])\n",
    "y_naive2_panel = y_test_df.filter(['unique_id', 'ds', 'y_hat_naive2'])\n",
    "y_naive2_panel.rename(columns={'y_hat_naive2': 'y_hat'})\n",
    "y_hat_panel = esrnn.predict(X_test_df)\n",
    "y_insample = y_train.filter(['unique_id', 'ds', 'y'])\n",
    "\n",
    "owa(y_panel, y_hat_panel, y_naive2_panel, y_insample, seasonality=esrnn.mc.seasonality)"
   ]
  },
  {
   "cell_type": "code",
   "execution_count": null,
   "metadata": {},
   "outputs": [],
   "source": [
    "y_test_df"
   ]
  },
  {
   "cell_type": "code",
   "execution_count": null,
   "metadata": {},
   "outputs": [],
   "source": [
    "y_hat"
   ]
  },
  {
   "cell_type": "code",
   "execution_count": null,
   "metadata": {},
   "outputs": [],
   "source": []
  }
 ],
 "metadata": {
  "kernelspec": {
   "display_name": "esrnn_torch",
   "language": "python",
   "name": "esrnn_torch"
  },
  "language_info": {
   "codemirror_mode": {
    "name": "ipython",
    "version": 3
   },
   "file_extension": ".py",
   "mimetype": "text/x-python",
   "name": "python",
   "nbconvert_exporter": "python",
   "pygments_lexer": "ipython3",
   "version": "3.6.10"
  }
 },
 "nbformat": 4,
 "nbformat_minor": 4
}
