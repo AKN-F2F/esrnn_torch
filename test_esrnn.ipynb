{
 "cells": [
  {
   "cell_type": "code",
   "execution_count": null,
   "metadata": {},
   "outputs": [],
   "source": [
    "import time\n",
    "import numpy as np\n",
    "import pandas as pd\n",
    "import torch\n",
    "\n",
    "import torch.optim as optim"
   ]
  },
  {
   "cell_type": "code",
   "execution_count": null,
   "metadata": {},
   "outputs": [],
   "source": [
    "from src.utils_data import M4TS\n",
    "from src.utils_data import get_m4_all_series\n",
    "\n",
    "from src.utils_config import ModelConfig\n",
    "from src.utils_visualization import plot_prediction\n",
    "\n",
    "from src.utils_train import train"
   ]
  },
  {
   "cell_type": "code",
   "execution_count": null,
   "metadata": {},
   "outputs": [],
   "source": [
    "mc = ModelConfig(config_file='configs/config_m4quarterly.yaml',\n",
    "                 root_dir='./results/')\n",
    "\n",
    "all_series = get_m4_all_series(mc=mc, data='train')\n",
    "train(mc, all_series)\n",
    "\n",
    "# model = ESRNN(mc)\n",
    "# print(\"\\n Model parameters: \\n\", model.rnn.parameters, \"\\n\")"
   ]
  },
  {
   "cell_type": "code",
   "execution_count": null,
   "metadata": {},
   "outputs": [],
   "source": []
  }
 ],
 "metadata": {
  "kernelspec": {
   "display_name": "esrnn_torch",
   "language": "python",
   "name": "esrnn_torch"
  },
  "language_info": {
   "codemirror_mode": {
    "name": "ipython",
    "version": 3
   },
   "file_extension": ".py",
   "mimetype": "text/x-python",
   "name": "python",
   "nbconvert_exporter": "python",
   "pygments_lexer": "ipython3",
   "version": "3.6.10"
  }
 },
 "nbformat": 4,
 "nbformat_minor": 4
}
