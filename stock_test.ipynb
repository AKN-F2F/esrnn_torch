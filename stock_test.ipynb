{
 "cells": [
  {
   "cell_type": "code",
   "execution_count": 1,
   "metadata": {},
   "outputs": [],
   "source": [
    "import numpy as np\n",
    "import pandas as pd\n",
    "import matplotlib.pyplot as plt\n",
    "from src.ESRNN import ESRNN\n",
    "plt.style.use('ggplot')\n",
    "pd.options.display.max_rows = 999\n",
    "np.set_printoptions(threshold=np.inf)"
   ]
  },
  {
   "cell_type": "code",
   "execution_count": 2,
   "metadata": {},
   "outputs": [],
   "source": [
    "# Plot\n",
    "def plot_prediction(y, y_hat):\n",
    "    n_y = len(y)\n",
    "    n_yhat = len(y_hat)\n",
    "    ds_y = np.array(range(n_y))\n",
    "    ds_yhat = np.array(range(n_y, n_y+n_yhat))\n",
    "\n",
    "    plt.plot(ds_y, y, label = 'y')\n",
    "    plt.plot(ds_yhat, y_hat, label='y_hat')\n",
    "    plt.legend(loc='upper left')\n",
    "    plt.show()"
   ]
  },
  {
   "cell_type": "code",
   "execution_count": 3,
   "metadata": {},
   "outputs": [],
   "source": [
    "def ffill_missing_dates_particular_serie(serie, min_date, max_date, freq):\n",
    "    date_range = pd.date_range(start=min_date, end=max_date, freq=freq)\n",
    "    unique_id = serie['unique_id'].unique()\n",
    "    df_balanced = pd.DataFrame({'ds':date_range, 'key':[1]*len(date_range), 'unique_id': unique_id[0]})\n",
    "\n",
    "    # Check balance\n",
    "    check_balance = df_balanced.groupby(['unique_id']).size().reset_index(name='count')\n",
    "    assert len(set(check_balance['count'].values)) <= 1\n",
    "    df_balanced = df_balanced.merge(serie, how=\"left\", on=['unique_id', 'ds'])\n",
    "\n",
    "    df_balanced['y'] = df_balanced['y'].fillna(method='ffill')\n",
    "    df_balanced['x'] = df_balanced['x'].fillna(method='ffill')\n",
    "\n",
    "\n",
    "    return df_balanced\n",
    "\n",
    "def ffill_missing_dates_per_serie(df, freq, fixed_max_date=None):\n",
    "    \"\"\"Receives a DataFrame with a date column and forward fills the missing gaps in dates, not filling dates before\n",
    "    the first appearance of a unique key\n",
    "\n",
    "    Parameters\n",
    "    ----------\n",
    "    df: DataFrame\n",
    "        Input DataFrame\n",
    "    key: str or list\n",
    "        Name(s) of the column(s) which make a unique time series\n",
    "    date_col: str\n",
    "        Name of the column that contains the time column\n",
    "    freq: str\n",
    "        Pandas time frequency standard strings, like \"W-THU\" or \"D\" or \"M\"\n",
    "    numeric_to_fill: str or list\n",
    "        Name(s) of the columns with numeric values to fill \"fill_value\" with\n",
    "    \"\"\"\n",
    "    if fixed_max_date is None:\n",
    "        df_max_min_dates = df[['unique_id', 'ds']].groupby('unique_id').agg(['min', 'max']).reset_index()\n",
    "    else:\n",
    "        df_max_min_dates = df[['unique_id', 'ds']].groupby('unique_id').agg(['min']).reset_index()\n",
    "        df_max_min_dates['max'] = fixed_max_date\n",
    "\n",
    "    df_max_min_dates.columns = df_max_min_dates.columns.droplevel()\n",
    "    df_max_min_dates.columns = ['unique_id', 'min_date', 'max_date']\n",
    "\n",
    "    df_list = []\n",
    "    for index, row in df_max_min_dates.iterrows():\n",
    "        df_id = df[df['unique_id'] == row['unique_id']]\n",
    "        df_id = ffill_missing_dates_particular_serie(df_id, row['min_date'], row['max_date'], freq)\n",
    "        df_list.append(df_id)\n",
    "\n",
    "    df_dates = pd.concat(df_list).reset_index(drop=True).drop('key', axis=1)[['unique_id', 'ds', 'y','x']]\n",
    "\n",
    "    return df_dates"
   ]
  },
  {
   "cell_type": "code",
   "execution_count": 9,
   "metadata": {},
   "outputs": [
    {
     "data": {
      "text/html": [
       "<div>\n",
       "<style scoped>\n",
       "    .dataframe tbody tr th:only-of-type {\n",
       "        vertical-align: middle;\n",
       "    }\n",
       "\n",
       "    .dataframe tbody tr th {\n",
       "        vertical-align: top;\n",
       "    }\n",
       "\n",
       "    .dataframe thead th {\n",
       "        text-align: right;\n",
       "    }\n",
       "</style>\n",
       "<table border=\"1\" class=\"dataframe\">\n",
       "  <thead>\n",
       "    <tr style=\"text-align: right;\">\n",
       "      <th></th>\n",
       "      <th>Company</th>\n",
       "      <th>Year</th>\n",
       "      <th>Date</th>\n",
       "      <th>Close</th>\n",
       "    </tr>\n",
       "  </thead>\n",
       "  <tbody>\n",
       "    <tr>\n",
       "      <th>0</th>\n",
       "      <td>abbv</td>\n",
       "      <td>2013</td>\n",
       "      <td>2013-01-04</td>\n",
       "      <td>28.810</td>\n",
       "    </tr>\n",
       "    <tr>\n",
       "      <th>1</th>\n",
       "      <td>abbv</td>\n",
       "      <td>2013</td>\n",
       "      <td>2013-01-07</td>\n",
       "      <td>28.869</td>\n",
       "    </tr>\n",
       "    <tr>\n",
       "      <th>2</th>\n",
       "      <td>abbv</td>\n",
       "      <td>2013</td>\n",
       "      <td>2013-01-08</td>\n",
       "      <td>28.242</td>\n",
       "    </tr>\n",
       "    <tr>\n",
       "      <th>3</th>\n",
       "      <td>abbv</td>\n",
       "      <td>2013</td>\n",
       "      <td>2013-01-09</td>\n",
       "      <td>28.399</td>\n",
       "    </tr>\n",
       "    <tr>\n",
       "      <th>4</th>\n",
       "      <td>abbv</td>\n",
       "      <td>2013</td>\n",
       "      <td>2013-01-10</td>\n",
       "      <td>28.481</td>\n",
       "    </tr>\n",
       "  </tbody>\n",
       "</table>\n",
       "</div>"
      ],
      "text/plain": [
       "  Company  Year       Date   Close\n",
       "0    abbv  2013 2013-01-04  28.810\n",
       "1    abbv  2013 2013-01-07  28.869\n",
       "2    abbv  2013 2013-01-08  28.242\n",
       "3    abbv  2013 2013-01-09  28.399\n",
       "4    abbv  2013 2013-01-10  28.481"
      ]
     },
     "execution_count": 9,
     "metadata": {},
     "output_type": "execute_result"
    }
   ],
   "source": [
    "# Original stock data\n",
    "data = pd.read_csv('data/train.csv')\n",
    "data['Date'] = data['Year'].astype(str)+'-'+data['Date'].astype(str)\n",
    "data['Date'] = pd.to_datetime(data['Date'])\n",
    "data = data[['Company','Year','Date','Close']]\n",
    "data.head()"
   ]
  },
  {
   "cell_type": "code",
   "execution_count": 10,
   "metadata": {},
   "outputs": [
    {
     "data": {
      "text/html": [
       "<div>\n",
       "<style scoped>\n",
       "    .dataframe tbody tr th:only-of-type {\n",
       "        vertical-align: middle;\n",
       "    }\n",
       "\n",
       "    .dataframe tbody tr th {\n",
       "        vertical-align: top;\n",
       "    }\n",
       "\n",
       "    .dataframe thead th {\n",
       "        text-align: right;\n",
       "    }\n",
       "</style>\n",
       "<table border=\"1\" class=\"dataframe\">\n",
       "  <thead>\n",
       "    <tr style=\"text-align: right;\">\n",
       "      <th></th>\n",
       "      <th>Company</th>\n",
       "      <th>Year</th>\n",
       "      <th>ds</th>\n",
       "      <th>y</th>\n",
       "      <th>unique_id</th>\n",
       "      <th>x</th>\n",
       "    </tr>\n",
       "  </thead>\n",
       "  <tbody>\n",
       "    <tr>\n",
       "      <th>0</th>\n",
       "      <td>abbv</td>\n",
       "      <td>2013</td>\n",
       "      <td>2013-01-04</td>\n",
       "      <td>28.810</td>\n",
       "      <td>abbv_2013</td>\n",
       "      <td>2013</td>\n",
       "    </tr>\n",
       "    <tr>\n",
       "      <th>1</th>\n",
       "      <td>abbv</td>\n",
       "      <td>2013</td>\n",
       "      <td>2013-01-07</td>\n",
       "      <td>28.869</td>\n",
       "      <td>abbv_2013</td>\n",
       "      <td>2013</td>\n",
       "    </tr>\n",
       "    <tr>\n",
       "      <th>2</th>\n",
       "      <td>abbv</td>\n",
       "      <td>2013</td>\n",
       "      <td>2013-01-08</td>\n",
       "      <td>28.242</td>\n",
       "      <td>abbv_2013</td>\n",
       "      <td>2013</td>\n",
       "    </tr>\n",
       "    <tr>\n",
       "      <th>3</th>\n",
       "      <td>abbv</td>\n",
       "      <td>2013</td>\n",
       "      <td>2013-01-09</td>\n",
       "      <td>28.399</td>\n",
       "      <td>abbv_2013</td>\n",
       "      <td>2013</td>\n",
       "    </tr>\n",
       "    <tr>\n",
       "      <th>4</th>\n",
       "      <td>abbv</td>\n",
       "      <td>2013</td>\n",
       "      <td>2013-01-10</td>\n",
       "      <td>28.481</td>\n",
       "      <td>abbv_2013</td>\n",
       "      <td>2013</td>\n",
       "    </tr>\n",
       "  </tbody>\n",
       "</table>\n",
       "</div>"
      ],
      "text/plain": [
       "  Company  Year         ds       y  unique_id     x\n",
       "0    abbv  2013 2013-01-04  28.810  abbv_2013  2013\n",
       "1    abbv  2013 2013-01-07  28.869  abbv_2013  2013\n",
       "2    abbv  2013 2013-01-08  28.242  abbv_2013  2013\n",
       "3    abbv  2013 2013-01-09  28.399  abbv_2013  2013\n",
       "4    abbv  2013 2013-01-10  28.481  abbv_2013  2013"
      ]
     },
     "execution_count": 10,
     "metadata": {},
     "output_type": "execute_result"
    }
   ],
   "source": [
    "# Clean data (model assumes this name columns)\n",
    "data['unique_id'] = data['Company']+\"_\"+data['Year'].astype(str)\n",
    "data = data.rename(columns={'Date':'ds', 'Close':'y'})\n",
    "data['x'] = data['Year'].astype(str)\n",
    "data.head()"
   ]
  },
  {
   "cell_type": "code",
   "execution_count": 11,
   "metadata": {},
   "outputs": [],
   "source": [
    "#Series must be complete in the frequency\n",
    "data = ffill_missing_dates_per_serie(data,'D')"
   ]
  },
  {
   "cell_type": "code",
   "execution_count": 12,
   "metadata": {},
   "outputs": [],
   "source": [
    "X_train = data[['unique_id','ds','x']]\n",
    "y_train = data[['unique_id','ds','y']]"
   ]
  },
  {
   "cell_type": "code",
   "execution_count": 13,
   "metadata": {},
   "outputs": [],
   "source": [
    "uniques = y_train['unique_id'].unique()\n",
    "#X_train = X_train[X_train['unique_id'].isin(uniques[[8,50,60,80]])]"
   ]
  },
  {
   "cell_type": "code",
   "execution_count": 14,
   "metadata": {},
   "outputs": [
    {
     "name": "stdout",
     "output_type": "stream",
     "text": [
      "========== Training ESRNN ==========\n",
      "\n",
      "Train finished!\n"
     ]
    }
   ],
   "source": [
    "esrnn = ESRNN(max_epochs=0, batch_size=8, learning_rate=1e-3, seasonality=30, input_size=30, output_size=30)\n",
    "esrnn.fit(X_train, y_train, random_seed=1)"
   ]
  },
  {
   "cell_type": "code",
   "execution_count": 15,
   "metadata": {},
   "outputs": [
    {
     "name": "stdout",
     "output_type": "stream",
     "text": [
      "y_hat.shape torch.Size([1, 30])\n",
      "seasonalities.shape torch.Size([1, 334])\n",
      "n_time 304\n",
      "output_size 30\n",
      "y_hat tensor([[4.3576, 4.6670, 3.9758, 4.6535, 4.0491, 4.3605, 3.8086, 4.0767, 4.5387,\n",
      "         4.5434, 3.9856, 4.3185, 3.7095, 4.8426, 4.4917, 3.9399, 3.9832, 4.5499,\n",
      "         4.4606, 3.9276, 3.7781, 4.4564, 4.8031, 4.4279, 4.5502, 4.1227, 3.8264,\n",
      "         4.0332, 3.9351, 4.6532]])\n",
      "levels[:, [n_time-1] tensor([[4.2764]])\n",
      "y_hat tensor([[7.1852, 7.7110, 6.5751, 7.6991, 6.6180, 7.1454, 6.1747, 6.5932, 7.2260,\n",
      "         7.3605, 6.4933, 7.2694, 6.1938, 7.9633, 7.3447, 6.4411, 6.4539, 7.4712,\n",
      "         7.3841, 6.4986, 6.2489, 7.4619, 8.0033, 7.3557, 7.4788, 6.7975, 6.2626,\n",
      "         6.5078, 6.4719, 7.6805]])\n",
      "seasonalities[:, n_time:(n_time+output_size)] tensor([[1.6489, 1.6522, 1.6538, 1.6545, 1.6344, 1.6387, 1.6212, 1.6173, 1.5921,\n",
      "         1.6200, 1.6292, 1.6833, 1.6697, 1.6444, 1.6352, 1.6348, 1.6203, 1.6421,\n",
      "         1.6554, 1.6546, 1.6540, 1.6744, 1.6663, 1.6612, 1.6436, 1.6488, 1.6367,\n",
      "         1.6136, 1.6447, 1.6506]])\n"
     ]
    }
   ],
   "source": [
    "y_test = y_train.loc[y_train['unique_id']==uniques[8]]\n",
    "y_hat = esrnn.predict(y_test)"
   ]
  },
  {
   "cell_type": "code",
   "execution_count": 18,
   "metadata": {},
   "outputs": [
    {
     "data": {
      "image/png": "[encoded data removed]",
      "text/plain": [
       "<Figure size 432x288 with 1 Axes>"
      ]
     },
     "metadata": {},
     "output_type": "display_data"
    }
   ],
   "source": [
    "plot_prediction(y_test['y'], y_hat['y_hat'])"
   ]
  },
  {
   "cell_type": "code",
   "execution_count": 19,
   "metadata": {},
   "outputs": [
    {
     "name": "stdout",
     "output_type": "stream",
     "text": [
      "========== Training ESRNN ==========\n",
      "\n",
      "========= Epoch 0 finished =========\n",
      "Training time: 4.832481861114502\n",
      "Forecast loss: 0.06182420253753662\n",
      "========= Epoch 1 finished =========\n",
      "Training time: 4.787511110305786\n",
      "Forecast loss: 0.050704434514045715\n",
      "========= Epoch 2 finished =========\n",
      "Training time: 4.924712896347046\n",
      "Forecast loss: 0.05000962316989899\n",
      "========= Epoch 3 finished =========\n",
      "Training time: 4.906938791275024\n",
      "Forecast loss: 0.04790998995304108\n",
      "========= Epoch 4 finished =========\n",
      "Training time: 4.854079008102417\n",
      "Forecast loss: 0.04835346341133118\n",
      "========= Epoch 5 finished =========\n",
      "Training time: 4.898065805435181\n",
      "Forecast loss: 0.04687555134296417\n",
      "========= Epoch 6 finished =========\n",
      "Training time: 5.032067060470581\n",
      "Forecast loss: 0.04716150462627411\n",
      "========= Epoch 7 finished =========\n",
      "Training time: 5.00151515007019\n",
      "Forecast loss: 0.046570785343647\n",
      "========= Epoch 8 finished =========\n",
      "Training time: 5.055521011352539\n",
      "Forecast loss: 0.04694803059101105\n",
      "========= Epoch 9 finished =========\n",
      "Training time: 4.982107877731323\n",
      "Forecast loss: 0.045763447880744934\n",
      "========= Epoch 10 finished =========\n",
      "Training time: 4.97623610496521\n",
      "Forecast loss: 0.04723488911986351\n",
      "========= Epoch 11 finished =========\n",
      "Training time: 4.950711727142334\n",
      "Forecast loss: 0.04637704789638519\n",
      "========= Epoch 12 finished =========\n",
      "Training time: 4.9909491539001465\n",
      "Forecast loss: 0.04611656442284584\n",
      "========= Epoch 13 finished =========\n",
      "Training time: 5.22151517868042\n",
      "Forecast loss: 0.04506945610046387\n",
      "========= Epoch 14 finished =========\n",
      "Training time: 5.211384057998657\n",
      "Forecast loss: 0.04537944495677948\n",
      "========= Epoch 15 finished =========\n",
      "Training time: 5.613113880157471\n",
      "Forecast loss: 0.04591149091720581\n",
      "========= Epoch 16 finished =========\n",
      "Training time: 5.184870004653931\n",
      "Forecast loss: 0.046036653220653534\n",
      "========= Epoch 17 finished =========\n",
      "Training time: 5.446112871170044\n",
      "Forecast loss: 0.04609109088778496\n",
      "========= Epoch 18 finished =========\n",
      "Training time: 5.699559211730957\n",
      "Forecast loss: 0.04548491910099983\n",
      "========= Epoch 19 finished =========\n",
      "Training time: 5.039573907852173\n",
      "Forecast loss: 0.04434303939342499\n",
      "========= Epoch 20 finished =========\n",
      "Training time: 5.048983097076416\n",
      "Forecast loss: 0.044804587960243225\n",
      "========= Epoch 21 finished =========\n",
      "Training time: 5.13972020149231\n",
      "Forecast loss: 0.045465338975191116\n",
      "========= Epoch 22 finished =========\n",
      "Training time: 5.007667779922485\n",
      "Forecast loss: 0.0436575710773468\n",
      "========= Epoch 23 finished =========\n",
      "Training time: 5.424021005630493\n",
      "Forecast loss: 0.04481756314635277\n",
      "========= Epoch 24 finished =========\n",
      "Training time: 5.131586790084839\n",
      "Forecast loss: 0.044103849679231644\n",
      "========= Epoch 25 finished =========\n",
      "Training time: 5.052719831466675\n",
      "Forecast loss: 0.04451294615864754\n",
      "========= Epoch 26 finished =========\n",
      "Training time: 4.982619762420654\n",
      "Forecast loss: 0.04497142136096954\n",
      "========= Epoch 27 finished =========\n",
      "Training time: 5.3928492069244385\n",
      "Forecast loss: 0.04484475404024124\n",
      "========= Epoch 28 finished =========\n",
      "Training time: 5.35481595993042\n",
      "Forecast loss: 0.0446210578083992\n",
      "========= Epoch 29 finished =========\n",
      "Training time: 4.995694160461426\n",
      "Forecast loss: 0.04356221854686737\n",
      "Train finished!\n"
     ]
    }
   ],
   "source": [
    "esrnn = ESRNN(max_epochs=30, batch_size=8, learning_rate=1e-3, \n",
    "              seasonality=30, input_size=30, output_size=30)\n",
    "esrnn.fit(X_train, y_train, random_seed=1)"
   ]
  },
  {
   "cell_type": "code",
   "execution_count": 30,
   "metadata": {},
   "outputs": [
    {
     "name": "stdout",
     "output_type": "stream",
     "text": [
      "y_hat.shape torch.Size([1, 30])\n",
      "seasonalities.shape torch.Size([1, 333])\n",
      "n_time 303\n",
      "output_size 30\n",
      "y_hat tensor([[23.6778, 25.0456, 24.6004, 25.3280, 23.0770, 24.7041, 23.8709, 23.9310,\n",
      "         25.6578, 25.1675, 25.9285, 25.9027, 25.1018, 25.0779, 23.7830, 24.1149,\n",
      "         24.7799, 25.9102, 25.3029, 24.8202, 24.3818, 25.4409, 25.6844, 25.7309,\n",
      "         24.3098, 24.2214, 25.4219, 25.2808, 25.1920, 24.9154]])\n",
      "levels[:, [n_time-1] tensor([[24.5549]])\n",
      "y_hat tensor([[39.3821, 41.4749, 40.7313, 42.0353, 38.3051, 41.0221, 39.1740, 39.0516,\n",
      "         41.6907, 41.2554, 42.6359, 42.4847, 40.9378, 40.8848, 39.2230, 39.6994,\n",
      "         41.1564, 42.9692, 41.9281, 41.8555, 41.3070, 42.2628, 42.2957, 42.4709,\n",
      "         40.2550, 39.0722, 42.6957, 42.2280, 41.7775, 41.3900]])\n",
      "seasonalities[:, n_time:(n_time+output_size)] tensor([[1.6633, 1.6560, 1.6557, 1.6596, 1.6599, 1.6605, 1.6411, 1.6318, 1.6249,\n",
      "         1.6392, 1.6444, 1.6402, 1.6309, 1.6303, 1.6492, 1.6463, 1.6609, 1.6584,\n",
      "         1.6570, 1.6863, 1.6942, 1.6612, 1.6467, 1.6506, 1.6559, 1.6131, 1.6795,\n",
      "         1.6704, 1.6584, 1.6612]])\n"
     ]
    }
   ],
   "source": [
    "uniques = y_train['unique_id'].unique()\n",
    "y_test = y_train.loc[y_train['unique_id']==uniques[120]]\n",
    "y_hat = esrnn.predict(y_test)"
   ]
  },
  {
   "cell_type": "code",
   "execution_count": 31,
   "metadata": {},
   "outputs": [
    {
     "data": {
      "image/png": "[encoded data removed]",
      "text/plain": [
       "<Figure size 432x288 with 1 Axes>"
      ]
     },
     "metadata": {},
     "output_type": "display_data"
    }
   ],
   "source": [
    "plot_prediction(y_test['y'], y_hat['y_hat'])"
   ]
  }
 ],
 "metadata": {
  "kernelspec": {
   "display_name": "Python 3",
   "language": "python",
   "name": "python3"
  },
  "language_info": {
   "codemirror_mode": {
    "name": "ipython",
    "version": 3
   },
   "file_extension": ".py",
   "mimetype": "text/x-python",
   "name": "python",
   "nbconvert_exporter": "python",
   "pygments_lexer": "ipython3",
   "version": "3.6.10"
  }
 },
 "nbformat": 4,
 "nbformat_minor": 4
}
